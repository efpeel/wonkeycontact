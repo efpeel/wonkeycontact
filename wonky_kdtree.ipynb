{
 "cells": [
  {
   "cell_type": "code",
   "execution_count": 82,
   "metadata": {},
   "outputs": [],
   "source": [
    "import pandas as pd\n",
    "import numpy as np\n",
    "import ipyvolume as ipv"
   ]
  },
  {
   "cell_type": "code",
   "execution_count": 83,
   "metadata": {},
   "outputs": [
    {
     "data": {
      "text/plain": [
       "'c:\\\\Apps\\\\Hackathon'"
      ]
     },
     "execution_count": 83,
     "metadata": {},
     "output_type": "execute_result"
    }
   ],
   "source": [
    "%pwd"
   ]
  },
  {
   "cell_type": "code",
   "execution_count": 113,
   "metadata": {},
   "outputs": [
    {
     "name": "stdout",
     "output_type": "stream",
     "text": [
      "              UID       Well             Top Interpreter  Depth_MD  \\\n",
      "0  11000090507701     US-008  AS 11.2 (Sand)       PRJ__   2189.40   \n",
      "1       SVA-51005  SVA-51005          AS11.2       UNKNO   2550.99   \n",
      "2  99000010166301      US-62          AS11.2         SPD   2311.00   \n",
      "3  99000010117801   US-24008          AS11.2        UNKN   2699.32   \n",
      "4  11000090404301     US-032          AS11.2        UNKN   2215.03   \n",
      "\n",
      "   Depth_tvdss        Easting      Northing  \n",
      "0   -2129.0000  620549.130000  6.643251e+06  \n",
      "1   -2471.0854  612153.560000  6.677389e+06  \n",
      "2   -2113.2766  626877.718685  6.643734e+06  \n",
      "3   -2127.0000  624102.896736  6.653115e+06  \n",
      "4   -2121.6533  610893.850000  6.655695e+06  \n"
     ]
    }
   ],
   "source": [
    "from pandas import read_excel\n",
    "my_sheet_name = 'Sheet1' \n",
    "df = read_excel('11_2.xlsx', sheet_name = my_sheet_name)\n",
    "print(df.head()) # shows headers with top 5 rows"
   ]
  },
  {
   "cell_type": "code",
   "execution_count": null,
   "metadata": {},
   "outputs": [],
   "source": [
    "#df.loc[:,['UID','Well','Top','Interpreter','Depth_MD','Easting','Northing','Depth_tvdss']]"
   ]
  },
  {
   "cell_type": "code",
   "execution_count": null,
   "metadata": {},
   "outputs": [],
   "source": [
    "#df.loc[df.Top.isin(['AS11.2','T AS11.2']), ['Easting','Northing','Depth_tvdss']]"
   ]
  },
  {
   "cell_type": "code",
   "execution_count": 114,
   "metadata": {},
   "outputs": [],
   "source": [
    "xyz=df.loc[df.Top.isin(['AS11.2','T AS11.2']), ['Easting','Northing','Depth_tvdss']].values"
   ]
  },
  {
   "cell_type": "code",
   "execution_count": 115,
   "metadata": {},
   "outputs": [],
   "source": [
    "#Exctract XYZ values for processing\n",
    "x=xyz[:,0]\n",
    "y=xyz[:,1]\n",
    "z=xyz[:,2]"
   ]
  },
  {
   "cell_type": "code",
   "execution_count": 116,
   "metadata": {},
   "outputs": [],
   "source": [
    "#Get extents of input data\n",
    "xmin=x.min() ; ymin=y.min() ; xmax=x.max() ; ymax=y.max() ; zmin=z.min() ; zmax=z.max()"
   ]
  },
  {
   "cell_type": "markdown",
   "metadata": {},
   "source": [
    "### Initial processing to mathematically remove obvious outliers"
   ]
  },
  {
   "cell_type": "code",
   "execution_count": 117,
   "metadata": {
    "scrolled": false
   },
   "outputs": [
    {
     "data": {
      "application/vnd.jupyter.widget-view+json": {
       "model_id": "6e6c04a822e0496cb20a3c925651f524",
       "version_major": 2,
       "version_minor": 0
      },
      "text/plain": [
       "Output()"
      ]
     },
     "metadata": {},
     "output_type": "display_data"
    },
    {
     "data": {
      "application/vnd.jupyter.widget-view+json": {
       "model_id": "44f10138c8ff48b68b3b886fd5999612",
       "version_major": 2,
       "version_minor": 0
      },
      "text/plain": [
       "VBox(children=(Figure(animation=200.0, camera=PerspectiveCamera(fov=46.0, position=(0.0, 0.0, 2.0), quaternion…"
      ]
     },
     "metadata": {},
     "output_type": "display_data"
    }
   ],
   "source": [
    "def outliers_iqr(z):\n",
    "    \"\"\"\n",
    "    The interquartile range (IQR), also called the midspread or middle 50%, \n",
    "    or technically H-spread, is a measure of statistical dispersion, being equal to the difference \n",
    "    between 75th and 25th percentiles, or between upper and lower quartiles, IQR = Q3 − Q1.\n",
    "    In other words, the IQR is the first quartile subtracted from the third quartile; these quartiles \n",
    "    can be clearly seen on a box plot on the data.\n",
    "    It is a measure of the dispersion similar to standard deviation or variance, but is much more robust \n",
    "    against outliers.\n",
    "    \"\"\"\n",
    "    quartile_1, quartile_3 = np.percentile(z, [25, 75])\n",
    "    iqr = quartile_3 - quartile_1\n",
    "    lower_bound = quartile_1 - (iqr * 1.5)\n",
    "    upper_bound = quartile_3 + (iqr * 1.5)\n",
    "    return np.where((z > upper_bound) | (z < lower_bound))\n",
    "iqr_test = outliers_iqr(z)[0].tolist()\n",
    "x_smooth = np.delete(x,iqr_test)\n",
    "y_smooth = np.delete(y,iqr_test)\n",
    "z_smooth = np.delete(z,iqr_test)\n",
    "ipv.figure()\n",
    "s = ipv.scatter(x_smooth, y_smooth, z_smooth, marker='sphere', size=3)\n",
    "ipv.xlim(xmin,xmax)\n",
    "ipv.ylim(ymin,ymax)\n",
    "ipv.zlim(-4000,-1500)\n",
    "ipv.animation_control(s)# shows controls for animation controls\n",
    "ipv.selector_default()\n",
    "ipv.show()"
   ]
  },
  {
   "cell_type": "markdown",
   "metadata": {},
   "source": [
    "### Iterative interactive editing"
   ]
  },
  {
   "cell_type": "code",
   "execution_count": 89,
   "metadata": {},
   "outputs": [],
   "source": [
    "s_sel=s.selected\n",
    "k=s_sel[0].tolist()"
   ]
  },
  {
   "cell_type": "code",
   "execution_count": 90,
   "metadata": {},
   "outputs": [],
   "source": [
    "#Pick up points edited in first 'outlier edit' funtion\n",
    "x= x_smooth\n",
    "y = y_smooth\n",
    "z = z_smooth"
   ]
  },
  {
   "cell_type": "code",
   "execution_count": 91,
   "metadata": {},
   "outputs": [],
   "source": [
    "xdel=np.delete(x,k)\n",
    "ydel=np.delete(y,k)\n",
    "zdel=np.delete(z,k)"
   ]
  },
  {
   "cell_type": "code",
   "execution_count": 92,
   "metadata": {
    "scrolled": false
   },
   "outputs": [
    {
     "data": {
      "application/vnd.jupyter.widget-view+json": {
       "model_id": "038c617abaef41bb8e68bad9c312150f",
       "version_major": 2,
       "version_minor": 0
      },
      "text/plain": [
       "Output()"
      ]
     },
     "metadata": {},
     "output_type": "display_data"
    },
    {
     "data": {
      "application/vnd.jupyter.widget-view+json": {
       "model_id": "fc63add9fffc4f42ae5f829dfafd63dc",
       "version_major": 2,
       "version_minor": 0
      },
      "text/plain": [
       "VBox(children=(Figure(animation=200.0, camera=PerspectiveCamera(fov=46.0, position=(0.0, 0.0, 2.0), quaternion…"
      ]
     },
     "metadata": {},
     "output_type": "display_data"
    }
   ],
   "source": [
    "ipv.figure()\n",
    "sdel = ipv.scatter(xdel, ydel, zdel, marker='sphere', size=3)\n",
    "ipv.xlim(xmin,xmax)\n",
    "ipv.ylim(ymin,ymax)\n",
    "ipv.zlim(-4000,-1500)\n",
    "ipv.animation_control(s)# shows controls for animation controls\n",
    "ipv.selector_default()\n",
    "ipv.show()"
   ]
  },
  {
   "cell_type": "markdown",
   "metadata": {},
   "source": [
    "### Second edit iteration"
   ]
  },
  {
   "cell_type": "code",
   "execution_count": 93,
   "metadata": {},
   "outputs": [],
   "source": [
    "k2=sdel.selected[0].tolist()"
   ]
  },
  {
   "cell_type": "code",
   "execution_count": 94,
   "metadata": {},
   "outputs": [],
   "source": [
    "xdel2=np.delete(xdel,k2)\n",
    "ydel2=np.delete(ydel,k2)\n",
    "zdel2=np.delete(zdel,k2)"
   ]
  },
  {
   "cell_type": "code",
   "execution_count": 95,
   "metadata": {},
   "outputs": [
    {
     "data": {
      "application/vnd.jupyter.widget-view+json": {
       "model_id": "efd0454804174134bc72365954491a96",
       "version_major": 2,
       "version_minor": 0
      },
      "text/plain": [
       "Output()"
      ]
     },
     "metadata": {},
     "output_type": "display_data"
    },
    {
     "data": {
      "application/vnd.jupyter.widget-view+json": {
       "model_id": "e542fe041c9b4bf7b9e9619e9a3747b2",
       "version_major": 2,
       "version_minor": 0
      },
      "text/plain": [
       "VBox(children=(Figure(animation=200.0, camera=PerspectiveCamera(fov=46.0, position=(0.0, 0.0, 2.0), quaternion…"
      ]
     },
     "metadata": {},
     "output_type": "display_data"
    }
   ],
   "source": [
    "ipv.figure()\n",
    "sdel2 = ipv.scatter(xdel2, ydel2, zdel2, marker='sphere', size=3)\n",
    "ipv.xlim(xmin,xmax)\n",
    "ipv.ylim(ymin,ymax)\n",
    "ipv.zlim(-4000,-1500)\n",
    "ipv.animation_control(s)# shows controls for animation controls\n",
    "ipv.selector_default()\n",
    "ipv.show()"
   ]
  },
  {
   "cell_type": "markdown",
   "metadata": {},
   "source": [
    "### Grid up  edited data"
   ]
  },
  {
   "cell_type": "code",
   "execution_count": 96,
   "metadata": {},
   "outputs": [],
   "source": [
    "#Reassign edited data to X,Y,Z variable\n",
    "x, y, z = xdel2, ydel2, zdel2"
   ]
  },
  {
   "cell_type": "markdown",
   "metadata": {},
   "source": [
    "### Grid Tops via minimum curvature"
   ]
  },
  {
   "cell_type": "code",
   "execution_count": 97,
   "metadata": {
    "scrolled": false
   },
   "outputs": [
    {
     "name": "stdout",
     "output_type": "stream",
     "text": [
      "Xmin = 595608.87 , XMax = 628209.11\n",
      "Ymin = 6639937.51, Ymax= 6699306.54\n",
      "Zmin = -3000.22, Zmax = -2108.3\n"
     ]
    }
   ],
   "source": [
    "#Create a grid outline from tops data extent. Start printing extent\n",
    "print(\"Xmin = {} , XMax = {}\\nYmin = {}, Ymax= {}\\nZmin = {}, Zmax = {}\".format(xmin, xmax, ymin, ymax, zmin, zmax))"
   ]
  },
  {
   "cell_type": "code",
   "execution_count": 98,
   "metadata": {},
   "outputs": [],
   "source": [
    "#Create sensible grid outline of integers. Now hardcoded...\n",
    "extent = [596000, 628500, 6640000, 6700000] #Sensible numbers from observed Xmin and Ymin\n",
    "grid_int = 2000 #Hard coded grid spacing\n",
    "#Create arrays of the x and y axis\n",
    "x_points = int((extent[1] - extent[0]) / grid_int)\n",
    "y_points = int((extent[3] - extent[2]) / grid_int)"
   ]
  },
  {
   "cell_type": "markdown",
   "metadata": {},
   "source": [
    "# KDTree "
   ]
  },
  {
   "cell_type": "code",
   "execution_count": 99,
   "metadata": {},
   "outputs": [],
   "source": [
    "from scipy import spatial"
   ]
  },
  {
   "cell_type": "code",
   "execution_count": 118,
   "metadata": {},
   "outputs": [],
   "source": [
    "#Create sensible grid outline of integers. Now hardcoded...\n",
    "extent = [596000, 628500, 6640000, 6700000] #Sensible numbers from observed Xmin and Ymin\n",
    "grid_int = 2000 #Hard coded grid spacing\n",
    "#Create arrays of the x and y axis\n",
    "x_points = int((extent[1] - extent[0]) / grid_int)\n",
    "y_points = int((extent[3] - extent[2]) / grid_int)"
   ]
  },
  {
   "cell_type": "code",
   "execution_count": 119,
   "metadata": {},
   "outputs": [],
   "source": [
    "#Create the grid. interval expressed by complex numbers\n",
    "grid_x, grid_y = np.mgrid[extent[0]:extent[1]:complex(x_points), extent[2]:extent[3]:complex(y_points)]"
   ]
  },
  {
   "cell_type": "code",
   "execution_count": 120,
   "metadata": {},
   "outputs": [],
   "source": [
    "#Create numpy arrays of point co-ordinates and then values from input data\n",
    "points = np.array(list(zip(x, y)))\n",
    "values = z"
   ]
  },
  {
   "cell_type": "code",
   "execution_count": 102,
   "metadata": {},
   "outputs": [],
   "source": [
    "tree = spatial.KDTree(points.tolist())"
   ]
  },
  {
   "cell_type": "code",
   "execution_count": 103,
   "metadata": {},
   "outputs": [],
   "source": [
    "keep=list(set(tree.query(list(zip(grid_x.ravel(), grid_y.ravel())))[1]))\n",
    "xk,yk,zk = x[keep],y[keep],z[keep]"
   ]
  },
  {
   "cell_type": "code",
   "execution_count": 109,
   "metadata": {},
   "outputs": [
    {
     "data": {
      "text/plain": [
       "(43,)"
      ]
     },
     "execution_count": 109,
     "metadata": {},
     "output_type": "execute_result"
    }
   ],
   "source": [
    "xk.shape"
   ]
  },
  {
   "cell_type": "code",
   "execution_count": 110,
   "metadata": {},
   "outputs": [],
   "source": [
    "keepdist=list(set(tree.query(list(zip(grid_x.ravel(), grid_y.ravel())))[0]))"
   ]
  },
  {
   "cell_type": "code",
   "execution_count": 111,
   "metadata": {},
   "outputs": [
    {
     "data": {
      "text/plain": [
       "[4098.006038886149,\n",
       " 2068.0190764368194,\n",
       " 4119.530255952911,\n",
       " 8216.892159097255,\n",
       " 2074.58336674184,\n",
       " 2077.4563069200785,\n",
       " 2078.471670872095,\n",
       " 2079.1636999213524,\n",
       " 4128.207871689511,\n",
       " 4128.605968027206,\n",
       " 10277.186540428142,\n",
       " 4135.101801652931,\n",
       " 2090.030175300818,\n",
       " 12330.905395186577,\n",
       " 2095.7179097002813,\n",
       " 10303.14022306125,\n",
       " 2121.100576388987,\n",
       " 4176.345457897669,\n",
       " 6225.538030939278,\n",
       " 2132.6978076077626,\n",
       " 4187.963555147434,\n",
       " 2142.742743273055,\n",
       " 4202.915549067547,\n",
       " 2155.2941723597078,\n",
       " 4204.8244889870575,\n",
       " 6253.701642680345,\n",
       " 4203.075215940932,\n",
       " 4213.18868313732,\n",
       " 4213.86952132567,\n",
       " 6264.670155835425,\n",
       " 2173.8322730384225,\n",
       " 2179.638992413444,\n",
       " 2179.8131646852535,\n",
       " 4231.245572208825,\n",
       " 2184.6976656170295,\n",
       " 4238.781563224192,\n",
       " 2191.0030692601017,\n",
       " 2192.253301890163,\n",
       " 2197.7823732448837,\n",
       " 2198.590375490351,\n",
       " 2211.7960218814987,\n",
       " 2224.3171098657713,\n",
       " 2233.410479004438,\n",
       " 4282.000398468745,\n",
       " 10434.834561980198,\n",
       " 4294.352580745767,\n",
       " 2248.787601281377,\n",
       " 6352.513682365188,\n",
       " 4304.02791665784,\n",
       " 4313.776392196303,\n",
       " 10460.408037326724,\n",
       " 8414.194401039314,\n",
       " 230.801131893343,\n",
       " 2279.3179252886166,\n",
       " 10472.954389468046,\n",
       " 235.46300788131921,\n",
       " 8429.786756199106,\n",
       " 2295.9596207161953,\n",
       " 8441.781456751118,\n",
       " 4353.419356980205,\n",
       " 4369.124254504893,\n",
       " 4370.117496888781,\n",
       " 2324.7250807785517,\n",
       " 280.93658552391287,\n",
       " 2330.3537385331592,\n",
       " 4384.0504102942805,\n",
       " 8483.68425634242,\n",
       " 2347.917675832372,\n",
       " 8494.908689554053,\n",
       " 6447.1767013538865,\n",
       " 313.54997738113076,\n",
       " 2364.013590270261,\n",
       " 2366.188981536977,\n",
       " 320.51784828685516,\n",
       " 6465.311119581219,\n",
       " 6467.226081308558,\n",
       " 2372.744702310818,\n",
       " 6467.513027044388,\n",
       " 2381.27603495572,\n",
       " 4432.087965676287,\n",
       " 2397.6278840934533,\n",
       " 2413.5992585883473,\n",
       " 4461.027794871776,\n",
       " 2420.7878996823138,\n",
       " 2441.28314998167,\n",
       " 2446.427369546582,\n",
       " 4498.706973706098,\n",
       " 2452.298740487023,\n",
       " 4506.867998053612,\n",
       " 2458.268202313618,\n",
       " 4508.974325784412,\n",
       " 10650.340791549968,\n",
       " 6559.989541882797,\n",
       " 2467.8223379878605,\n",
       " 12718.313731133836,\n",
       " 431.6529284028822,\n",
       " 2497.3109605777568,\n",
       " 6595.713779644335,\n",
       " 2500.7105525281336,\n",
       " 6598.954300898394,\n",
       " 6599.91480755642,\n",
       " 8658.319176637904,\n",
       " 4572.523397830258,\n",
       " 4573.500513962297,\n",
       " 4574.307934674383,\n",
       " 8669.319355672646,\n",
       " 4578.8701086353885,\n",
       " 2532.046717499206,\n",
       " 6633.431357517338,\n",
       " 2538.16256791658,\n",
       " 2541.451992053971,\n",
       " 4594.17422398572,\n",
       " 4596.809974078398,\n",
       " 6645.963860719727,\n",
       " 2551.306906206686,\n",
       " 2557.1406560056503,\n",
       " 511.24480041508235,\n",
       " 2559.305617896884,\n",
       " 6655.9723827155085,\n",
       " 6660.599242615264,\n",
       " 2567.7624443297127,\n",
       " 4617.948077827065,\n",
       " 4621.20563835334,\n",
       " 8726.84016278057,\n",
       " 10776.226785637606,\n",
       " 542.7587121397409,\n",
       " 2594.524988753383,\n",
       " 2595.8230545682495,\n",
       " 8750.670346508985,\n",
       " 2612.3650056434994,\n",
       " 4660.729160482272,\n",
       " 2617.383115828882,\n",
       " 4670.873572532382,\n",
       " 2626.6010053873065,\n",
       " 2636.814560494513,\n",
       " 590.3652607601393,\n",
       " 4688.8200694714515,\n",
       " 2642.498856726331,\n",
       " 2664.073148718084,\n",
       " 626.2357434026363,\n",
       " 4726.668810877791,\n",
       " 631.1153569503164,\n",
       " 2685.6940084192183,\n",
       " 4738.935928073961,\n",
       " 6793.351419236711,\n",
       " 651.3967273601597,\n",
       " 653.8867003084003,\n",
       " 2706.4788514121256,\n",
       " 2712.373975480865,\n",
       " 4760.849133591733,\n",
       " 2713.9333327639997,\n",
       " 6812.509682924284,\n",
       " 2720.8874730173166,\n",
       " 677.8382558047012,\n",
       " 2728.9552830000616,\n",
       " 4776.420401601132,\n",
       " 4784.993662271965,\n",
       " 2737.2311997386346,\n",
       " 2740.9692326357394,\n",
       " 2741.254581734002,\n",
       " 4803.558244336396,\n",
       " 4807.212308894635,\n",
       " 713.0616315381666,\n",
       " 2763.3793965760487,\n",
       " 4812.5984056786065,\n",
       " 718.3440541216997,\n",
       " 724.8009822350887,\n",
       " 4822.834678577611,\n",
       " 2781.194040007294,\n",
       " 736.4006171399024,\n",
       " 745.1700205131015,\n",
       " 4847.3599379173975,\n",
       " 2807.549508970914,\n",
       " 2817.519738855072,\n",
       " 2824.633964684813,\n",
       " 6922.42637034389,\n",
       " 4875.5129734453485,\n",
       " 6927.387524692488,\n",
       " 4880.353604593135,\n",
       " 2835.998417234591,\n",
       " 4887.247531329105,\n",
       " 2846.215943099606,\n",
       " 11054.531737768259,\n",
       " 2872.5063667873706,\n",
       " 2874.0058802479452,\n",
       " 4924.987182151586,\n",
       " 2881.923224472588,\n",
       " 2885.627434291122,\n",
       " 4939.897380411511,\n",
       " 2892.8403006496333,\n",
       " 6994.544038453556,\n",
       " 854.0730890863392,\n",
       " 855.2824597484431,\n",
       " 2915.5993511968404,\n",
       " 2917.929196669887,\n",
       " 877.0795400067287,\n",
       " 9078.252626013496,\n",
       " 4985.814891336485,\n",
       " 2938.0335314183967,\n",
       " 4988.691077383632,\n",
       " 898.7800608207929,\n",
       " 903.3306926012561,\n",
       " 5001.751002280853,\n",
       " 5004.039459357845,\n",
       " 2957.4823474138084,\n",
       " 2969.4379804380806,\n",
       " 931.8248641658656,\n",
       " 9133.363575088568,\n",
       " 953.6017783248082,\n",
       " 3005.8452191351716,\n",
       " 961.0176618151269,\n",
       " 9156.920497948875,\n",
       " 3015.805346579008,\n",
       " 5063.124898271126,\n",
       " 5070.295123515372,\n",
       " 977.9669455277881,\n",
       " 7123.345288693604,\n",
       " 980.5568152484591,\n",
       " 9175.902079695066,\n",
       " 3034.963303002186,\n",
       " 7130.293282882095,\n",
       " 991.1074467821827,\n",
       " 3041.2427129759903,\n",
       " 3048.1570058405496,\n",
       " 3052.6922990653893,\n",
       " 5101.151777420323,\n",
       " 11245.224042884653,\n",
       " 1007.5330937523452,\n",
       " 5120.812004350783,\n",
       " 3075.361076234914,\n",
       " 3076.9329539206155,\n",
       " 5126.4218298286005,\n",
       " 3079.4246786736876,\n",
       " 7185.333968948338,\n",
       " 1046.7531465475556,\n",
       " 3109.829329088937,\n",
       " 3115.4475056960987,\n",
       " 1086.4785414080102,\n",
       " 5185.666017941835,\n",
       " 3147.304301373505,\n",
       " 7247.613092539178,\n",
       " 3163.0404925053263,\n",
       " 7260.706792355109,\n",
       " 3170.3257660905056,\n",
       " 5218.870396849876,\n",
       " 7270.089996356335,\n",
       " 1128.369491061905,\n",
       " 3177.8201792851105,\n",
       " 3181.5645646062962,\n",
       " 3184.102894375983,\n",
       " 1139.6718336671445,\n",
       " 3187.3550614274504,\n",
       " 1143.3184298830697,\n",
       " 3194.0070055988385,\n",
       " 1148.6271011596905,\n",
       " 3198.7596441305673,\n",
       " 1155.8561277335943,\n",
       " 1161.124423817127,\n",
       " 7306.150984824357,\n",
       " 5259.07837519411,\n",
       " 3212.728365229828,\n",
       " 3217.3645175401034,\n",
       " 1171.853674445875,\n",
       " 5269.044496640873,\n",
       " 9371.957900342002,\n",
       " 5277.345515163626,\n",
       " 7328.117604897024,\n",
       " 5281.359729053342,\n",
       " 1186.8235831489706,\n",
       " 3234.859825142805,\n",
       " 1189.2474938686364,\n",
       " 7341.572423045327,\n",
       " 3249.1561331495222,\n",
       " 1216.7478341102333,\n",
       " 5320.011424090108,\n",
       " 1228.7969719188607,\n",
       " 5327.608869684322,\n",
       " 3284.572174177708,\n",
       " 3286.124816745839,\n",
       " 1242.902565283394,\n",
       " 1242.7019897923694,\n",
       " 3292.877859702041,\n",
       " 3292.6913198960033,\n",
       " 3293.8750027147985,\n",
       " 5344.115318302356,\n",
       " 3299.4916436335175,\n",
       " 3308.836320066099,\n",
       " 1261.1613073521783,\n",
       " 5369.45858336696,\n",
       " 5381.818267588089,\n",
       " 3339.76449121656,\n",
       " 9485.370204254343,\n",
       " 5393.754850167183,\n",
       " 3346.9964381857767,\n",
       " 1302.9398361029466,\n",
       " 7448.326256473171,\n",
       " 3356.7237129599675,\n",
       " 3357.561383492685,\n",
       " 1313.2955647961332,\n",
       " 1314.530299225461,\n",
       " 5409.293361072548,\n",
       " 3367.168550672009,\n",
       " 3374.569210462316,\n",
       " 1329.9719842304294,\n",
       " 1331.5134143267605,\n",
       " 1337.7066556943682,\n",
       " 3394.08932647443,\n",
       " 1347.4181557400589,\n",
       " 1348.8135116261794,\n",
       " 7493.390171900838,\n",
       " 3395.6194459415256,\n",
       " 1352.2867057751016,\n",
       " 1354.463282868785,\n",
       " 7500.842984524743,\n",
       " 11604.338224905076,\n",
       " 3413.7684479749373,\n",
       " 1366.5384400309651,\n",
       " 5461.974155788437,\n",
       " 5475.341607253625,\n",
       " 1381.94904419365,\n",
       " 1388.5136622029163,\n",
       " 1393.5152365121726,\n",
       " 9589.934613240026,\n",
       " 9593.681702453503,\n",
       " 1403.7041362142284,\n",
       " 3454.931137009842,\n",
       " 1413.3248239469872,\n",
       " 5511.746511013753,\n",
       " 5511.058793268918,\n",
       " 3466.110914283381,\n",
       " 5529.583001000909,\n",
       " 1434.1180213393293,\n",
       " 5530.967302860578,\n",
       " 3484.864404912717,\n",
       " 1441.8031423794241,\n",
       " 3490.2732500688285,\n",
       " 1445.9607229612425,\n",
       " 3493.252216162927,\n",
       " 1447.5370794299752,\n",
       " 1448.3502986728297,\n",
       " 9642.781044432004,\n",
       " 5548.458652253813,\n",
       " 3500.255921110703,\n",
       " 1461.0380368629646,\n",
       " 9659.56858028496,\n",
       " 3515.649671028544,\n",
       " 3521.8466861178194,\n",
       " 1481.5902303957641,\n",
       " 3550.183349086651,\n",
       " 7647.780225788965,\n",
       " 3554.6356411600855,\n",
       " 1509.7768821384554,\n",
       " 7655.129971841229,\n",
       " 3560.174764423237,\n",
       " 5649.486106886877,\n",
       " 1558.4794450399056,\n",
       " 1559.7303879743856,\n",
       " 3608.6582648946182,\n",
       " 9752.324513456848,\n",
       " 3616.0303312380797,\n",
       " 5666.979696427006,\n",
       " 3625.131433706008,\n",
       " 3626.0017103095042,\n",
       " 1579.4155160677726,\n",
       " 7725.553266395155,\n",
       " 5686.48067743252,\n",
       " 3639.8771219832556,\n",
       " 1592.6976412128415,\n",
       " 7736.464384353162,\n",
       " 7738.055867463832,\n",
       " 3651.883245939452,\n",
       " 3655.6801427596943,\n",
       " 1609.8727908857695,\n",
       " 5706.254374510369,\n",
       " 3659.8283248927805,\n",
       " 3669.4288673882065,\n",
       " 5725.615257982069,\n",
       " 3679.4160081182886,\n",
       " 1635.503320261819,\n",
       " 5731.827464054662,\n",
       " 1644.7190195231572,\n",
       " 3692.6194992537203,\n",
       " 3700.246168773355,\n",
       " 5752.599114682658,\n",
       " 5753.044379120653,\n",
       " 1657.943545934828,\n",
       " 3707.1102127141635,\n",
       " 1662.6622748218556,\n",
       " 5760.203325672095,\n",
       " 1671.4973050875885,\n",
       " 1671.7972235585717,\n",
       " 1673.1170542967152,\n",
       " 7821.6913700196665,\n",
       " 5777.780489250846,\n",
       " 5780.257424011417,\n",
       " 1692.8007101087278,\n",
       " 1694.0303456039796,\n",
       " 1697.483142700166,\n",
       " 1700.4442882209214,\n",
       " 9916.411890231691,\n",
       " 3773.5371752649517,\n",
       " 3774.7937930352455,\n",
       " 5823.454868481515,\n",
       " 1727.667347624529,\n",
       " 3775.147652701837,\n",
       " 5829.2758322960735,\n",
       " 1740.683047777792,\n",
       " 3797.484012768731,\n",
       " 7894.616936511148,\n",
       " 1751.8291713335109,\n",
       " 5850.684244438298,\n",
       " 7900.1596409873155,\n",
       " 7911.774311428004,\n",
       " 1771.0964352247054,\n",
       " 5868.143717224845,\n",
       " 7917.409851395349,\n",
       " 3824.2739501702804,\n",
       " 9970.339886232947,\n",
       " 5875.739671395038,\n",
       " 3828.1670433453965,\n",
       " 3838.2378896740784,\n",
       " 3838.7057924249757,\n",
       " 3845.579139380276,\n",
       " 3851.6600628959477,\n",
       " 3863.2229084156743,\n",
       " 5918.3438768074575,\n",
       " 1824.09299461442,\n",
       " 3874.2929793662856,\n",
       " 5923.369238217008,\n",
       " 3877.2135325164118,\n",
       " 3877.829551930063,\n",
       " 3881.5523825285472,\n",
       " 3888.900261744811,\n",
       " 3888.129825604524,\n",
       " 1843.8816793459077,\n",
       " 1850.8894522072756,\n",
       " 5950.4041225090195,\n",
       " 10047.210830033222,\n",
       " 3906.727477561205,\n",
       " 10051.566606354107,\n",
       " 1861.5618888833167,\n",
       " 1863.460421767345,\n",
       " 3913.0152609569673,\n",
       " 5966.511675919496,\n",
       " 1871.4812447996017,\n",
       " 3922.9994109911195,\n",
       " 8022.062569254971,\n",
       " 3931.0223794290787,\n",
       " 3954.3308102431324,\n",
       " 1909.7004793006963,\n",
       " 3957.6341993749465,\n",
       " 8058.77720764365,\n",
       " 1922.3030844768625,\n",
       " 3972.458210573519,\n",
       " 3977.452177983635,\n",
       " 8074.07812554962,\n",
       " 1931.3476427017627,\n",
       " 6036.383263221968,\n",
       " 6039.959728966346,\n",
       " 1948.5113336284817,\n",
       " 1952.3531739164646,\n",
       " 1957.014072641983,\n",
       " 1957.0743946424495,\n",
       " 4009.734139059657,\n",
       " 4015.853249481495,\n",
       " 1971.2692401797103,\n",
       " 6067.334492831888,\n",
       " 4028.690206100282,\n",
       " 1987.1431076775748,\n",
       " 1987.4454184210706,\n",
       " 4037.799455125057,\n",
       " 4048.1057988538114,\n",
       " 8160.996644640951,\n",
       " 4065.246138397169,\n",
       " 2022.231970091379,\n",
       " 4071.243553114009,\n",
       " 4079.57271846116,\n",
       " 4088.5446752294574,\n",
       " 10234.430604567146,\n",
       " 4095.558074638471]"
      ]
     },
     "execution_count": 111,
     "metadata": {},
     "output_type": "execute_result"
    }
   ],
   "source": [
    "keepdist"
   ]
  },
  {
   "cell_type": "code",
   "execution_count": 121,
   "metadata": {},
   "outputs": [],
   "source": [
    "#Perform interpolation of data in to the specified grid using scipy\n",
    "from scipy.interpolate import griddata\n",
    "gridded = griddata(points, values, (grid_x, grid_y), method='cubic')"
   ]
  },
  {
   "cell_type": "code",
   "execution_count": 122,
   "metadata": {
    "scrolled": false
   },
   "outputs": [
    {
     "data": {
      "text/plain": [
       "<matplotlib.collections.PathCollection at 0x24ea80eacc0>"
      ]
     },
     "execution_count": 122,
     "metadata": {},
     "output_type": "execute_result"
    },
    {
     "data": {
      "image/png": "[encoded data removed]",
      "text/plain": [
       "<Figure size 1440x720 with 1 Axes>"
      ]
     },
     "metadata": {
      "needs_background": "light"
     },
     "output_type": "display_data"
    }
   ],
   "source": [
    "import matplotlib.pyplot as plt\n",
    "%matplotlib inline\n",
    "plt.figure(figsize=(20,10))\n",
    "plt.imshow(gridded.T, origin='lower', extent=extent)\n",
    "plt.scatter(xd, yd, s=10, c='k')\n",
    "#plt.colorbar(gridded.T)"
   ]
  },
  {
   "cell_type": "markdown",
   "metadata": {},
   "source": [
    "### 2d Fourier Transform"
   ]
  },
  {
   "cell_type": "code",
   "execution_count": null,
   "metadata": {},
   "outputs": [],
   "source": [
    "#Subset data to rectangle. In final version, will have already selected rectangle in ipyvolume phase"
   ]
  },
  {
   "cell_type": "code",
   "execution_count": 34,
   "metadata": {
    "scrolled": true
   },
   "outputs": [
    {
     "data": {
      "text/plain": [
       "(325, 600)"
      ]
     },
     "execution_count": 34,
     "metadata": {},
     "output_type": "execute_result"
    }
   ],
   "source": [
    "gridded.shape"
   ]
  },
  {
   "cell_type": "code",
   "execution_count": null,
   "metadata": {},
   "outputs": [],
   "source": [
    "ft = np.fft.fft2(gridded)"
   ]
  },
  {
   "cell_type": "code",
   "execution_count": null,
   "metadata": {},
   "outputs": [],
   "source": []
  },
  {
   "cell_type": "code",
   "execution_count": null,
   "metadata": {},
   "outputs": [],
   "source": []
  },
  {
   "cell_type": "markdown",
   "metadata": {},
   "source": [
    "# Read Depth map"
   ]
  },
  {
   "cell_type": "code",
   "execution_count": 7,
   "metadata": {},
   "outputs": [
    {
     "name": "stdout",
     "output_type": "stream",
     "text": [
      "c:\\Apps\\Hackathon\n"
     ]
    }
   ],
   "source": [
    "%pwd\n",
    "%cd ..\\.."
   ]
  },
  {
   "cell_type": "code",
   "execution_count": 4,
   "metadata": {},
   "outputs": [],
   "source": [
    "\n",
    "# library \n",
    "\n",
    "\n",
    "from mpl_toolkits.mplot3d import Axes3D \n",
    "import matplotlib.pyplot as plt \n",
    "import pandas as pd \n",
    "import seaborn as sns "
   ]
  },
  {
   "cell_type": "code",
   "execution_count": 60,
   "metadata": {},
   "outputs": [],
   "source": [
    "\n",
    "# Get the data (csv file )\n",
    " \n",
    "\n",
    "data = pd.read_csv('surface66.txt', sep='      ', skiprows=[1], header = None, engine='python',names=['Easting','Northing','Depth']) \n",
    "\n"
   ]
  },
  {
   "cell_type": "code",
   "execution_count": 64,
   "metadata": {},
   "outputs": [
    {
     "data": {
      "text/plain": [
       "(2880906, 3)"
      ]
     },
     "execution_count": 64,
     "metadata": {},
     "output_type": "execute_result"
    }
   ],
   "source": [
    "data.shape"
   ]
  },
  {
   "cell_type": "code",
   "execution_count": 62,
   "metadata": {},
   "outputs": [],
   "source": [
    "data = data.iloc[1:]"
   ]
  },
  {
   "cell_type": "code",
   "execution_count": 73,
   "metadata": {},
   "outputs": [
    {
     "data": {
      "text/plain": [
       "(2880906,)"
      ]
     },
     "execution_count": 73,
     "metadata": {},
     "output_type": "execute_result"
    }
   ],
   "source": [
    "data['Depth'].shape"
   ]
  },
  {
   "cell_type": "code",
   "execution_count": null,
   "metadata": {},
   "outputs": [],
   "source": []
  }
 ],
 "metadata": {
  "kernelspec": {
   "display_name": "Python 3",
   "language": "python",
   "name": "python3"
  },
  "language_info": {
   "codemirror_mode": {
    "name": "ipython",
    "version": 3
   },
   "file_extension": ".py",
   "mimetype": "text/x-python",
   "name": "python",
   "nbconvert_exporter": "python",
   "pygments_lexer": "ipython3",
   "version": "3.7.0"
  }
 },
 "nbformat": 4,
 "nbformat_minor": 2
}
