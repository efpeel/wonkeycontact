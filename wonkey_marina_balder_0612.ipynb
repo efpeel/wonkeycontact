{
 "cells": [
  {
   "cell_type": "markdown",
   "metadata": {},
   "source": [
    "# Wonky Tops\n",
    "### Marina Ten, Floris Strijbos, Tom Wade"
   ]
  },
  {
   "cell_type": "code",
   "execution_count": 2,
   "metadata": {},
   "outputs": [],
   "source": [
    "import pandas as pd\n",
    "import numpy as np\n",
    "import ipyvolume as ipv"
   ]
  },
  {
   "cell_type": "code",
   "execution_count": 3,
   "metadata": {},
   "outputs": [
    {
     "data": {
      "text/plain": [
       "'/Users/flo/Documents/WonkyTop/wonkeycontact'"
      ]
     },
     "execution_count": 3,
     "metadata": {},
     "output_type": "execute_result"
    }
   ],
   "source": [
    "%pwd"
   ]
  },
  {
   "cell_type": "code",
   "execution_count": 4,
   "metadata": {},
   "outputs": [
    {
     "name": "stdout",
     "output_type": "stream",
     "text": [
      "              UID     Well          Top Interpreter  N  Depth_MD  Depth_tvdss  \\\n",
      "0  11000010003604   AA02S3  T Balder Fm       SUKEP  1   4040.51   -2115.9756   \n",
      "1  11000010003604   AA02S3  B Balder Fm       SUKEP  1   4097.16   -2134.8250   \n",
      "2  11000010003803   AA04S2  T Balder Fm       SUKEP  1   3840.03   -2103.9250   \n",
      "3  11000010003803   AA04S2  B Balder Fm       SUKEP  1   3888.82   -2124.2317   \n",
      "4  11000010058902  CUB P1M  T Balder Fm        PETR  1   2552.04   -2526.8508   \n",
      "\n",
      "         Easting      Northing  \n",
      "0  629441.169920  6.250712e+06  \n",
      "1  629479.499624  6.250675e+06  \n",
      "2  629112.554197  6.250618e+06  \n",
      "3  629153.269214  6.250601e+06  \n",
      "4  577270.102010  6.287584e+06  \n",
      "[['SUKEP' '3140']\n",
      " ['PETR' '14']\n",
      " ['FMB' '1193']\n",
      " ['SEM0' '11']\n",
      " ['RFN' '11']\n",
      " ['RESUN' '152']\n",
      " ['SHW07' '10']\n",
      " ['BAN' '46']\n",
      " ['FRH' '13']\n",
      " ['RLL' '21']\n",
      " ['SAMS' '25']\n",
      " ['NBOA' '1']\n",
      " ['JCBJ' '8']\n",
      " ['CEL0' '4']\n",
      " ['MDW' '1']\n",
      " ['JDHA' '4']\n",
      " ['JT' '14']\n",
      " ['RMP' '16']\n",
      " ['CKING' '1']\n",
      " ['FRAMD' '12']\n",
      " ['GBMVI' '34']\n",
      " ['BPDEV' '2']\n",
      " ['LGC' '6']\n",
      " ['GCF' '2']\n",
      " ['FORM' '167']\n",
      " ['MEMBR' '4']\n",
      " ['IBB3' '5']\n",
      " ['LFL7' '1']\n",
      " ['RKS' '2']\n",
      " ['HELMI' '2']\n",
      " ['SMC' '3']\n",
      " ['DPB' '5']\n",
      " ['LJI0' '2']\n",
      " ['DWEJ' '6']\n",
      " ['<ALL>' '1']\n",
      " ['MBE1' '1']]\n",
      "SUKEP\n"
     ]
    }
   ],
   "source": [
    "from pandas import read_excel\n",
    "my_sheet_name = 'Sheet1' \n",
    "df = read_excel('balder.xlsx', sheet_name = my_sheet_name)\n",
    "print(df.head()) # shows headers with top 5 rows\n",
    "count = []\n",
    "for interp in df['Interpreter'].unique():\n",
    "    #print(interp)\n",
    "    #print(df.loc[df['Interpreter']== interp].count()[1])\n",
    "    count.append(df.loc[df['Interpreter']== interp].count()[1])\n",
    "    #print(count)\n",
    "\n",
    "interp = df['Interpreter'].unique().tolist()\n",
    "int_cnt = np.column_stack((interp, count))  \n",
    "print(int_cnt)\n",
    "print(int_cnt[np.unravel_index(np.argmax(int_cnt), int_cnt.shape)])\n"
   ]
  },
  {
   "cell_type": "code",
   "execution_count": null,
   "metadata": {},
   "outputs": [],
   "source": [
    "#df.loc[:,['UID','Well','Top','Interpreter','Depth_MD','Easting','Northing','Depth_tvdss']]"
   ]
  },
  {
   "cell_type": "code",
   "execution_count": 5,
   "metadata": {},
   "outputs": [
    {
     "name": "stdout",
     "output_type": "stream",
     "text": [
      "            Easting      Northing  Depth_tvdss\n",
      "0     629441.169920  6.250712e+06   -2115.9756\n",
      "1     629479.499624  6.250675e+06   -2134.8250\n",
      "2     629112.554197  6.250618e+06   -2103.9250\n",
      "3     629153.269214  6.250601e+06   -2124.2317\n",
      "5     577270.780209  6.287585e+06   -2514.4402\n",
      "6     577269.395824  6.287584e+06   -2538.1541\n",
      "9     580516.321107  6.287974e+06   -2503.5225\n",
      "10    580516.840671  6.287975e+06   -2520.8550\n",
      "11    580072.627013  6.287790e+06   -2488.2112\n",
      "12    580071.922093  6.287790e+06   -2509.8264\n",
      "13    605685.789307  6.337955e+06   -2874.4177\n",
      "14    605685.904366  6.337955e+06   -2900.6274\n",
      "15    632851.628098  6.262701e+06   -2725.7512\n",
      "16    632852.191222  6.262696e+06   -2739.3743\n",
      "17    633475.918908  6.262481e+06   -2762.9470\n",
      "18    633479.706001  6.262475e+06   -2774.6597\n",
      "19    631674.562290  6.263773e+06   -2773.4846\n",
      "20    631667.544817  6.263777e+06   -2787.6865\n",
      "21    633248.359596  6.263630e+06   -2768.1040\n",
      "22    633252.005147  6.263633e+06   -2780.5964\n",
      "23    632626.790693  6.263449e+06   -2811.0564\n",
      "24    632625.213030  6.263457e+06   -2825.7300\n",
      "25    555184.389304  6.339458e+06   -1918.6737\n",
      "26    555183.012383  6.339455e+06   -1943.9563\n",
      "27    556248.868762  6.339487e+06   -1908.8315\n",
      "28    556251.060794  6.339493e+06   -1922.8240\n",
      "29    556643.200270  6.336098e+06   -2001.4178\n",
      "30    556648.056304  6.336040e+06   -2003.8776\n",
      "31    556650.684990  6.336169e+06   -2019.8258\n",
      "32    556650.589420  6.336144e+06   -2031.5460\n",
      "...             ...           ...          ...\n",
      "4828  631151.953804  6.313600e+06   -3063.1270\n",
      "4829  631154.461908  6.313597e+06   -3078.0979\n",
      "4840  636695.346226  6.312496e+06   -3080.9180\n",
      "4841  636695.024988  6.312496e+06   -3094.0190\n",
      "4847  549801.547637  6.336536e+06   -1741.6969\n",
      "4848  549801.547637  6.336536e+06   -1741.6969\n",
      "4849  637628.049304  6.303465e+06   -3049.7100\n",
      "4850  637628.860856  6.303469e+06   -3075.2979\n",
      "4851  638338.501909  6.303359e+06   -3054.0635\n",
      "4852  638342.728699  6.303359e+06   -3078.6965\n",
      "4856  549801.547650  6.336536e+06   -1741.6965\n",
      "4857  549793.340531  6.336537e+06   -1764.6115\n",
      "4858  638105.327054  6.302287e+06   -3085.1665\n",
      "4859  638117.244483  6.302274e+06   -3110.3379\n",
      "4860  638105.327054  6.302287e+06   -3085.1665\n",
      "4861  638117.244483  6.302274e+06   -3110.3379\n",
      "4863  558755.035737  6.326627e+06   -1904.4656\n",
      "4864  558776.366934  6.326606e+06   -1947.9413\n",
      "4865  558755.035737  6.326627e+06   -1904.4656\n",
      "4866  558759.168692  6.326623e+06   -1913.1434\n",
      "4867  558759.168692  6.326623e+06   -1913.1434\n",
      "4868  558776.366934  6.326606e+06   -1947.9413\n",
      "4876  637532.608632  6.338011e+06   -2505.5112\n",
      "4877  637556.438703  6.338010e+06   -2511.7495\n",
      "4914  557689.260000  6.322324e+06   -1987.4525\n",
      "4915  557689.260000  6.322324e+06   -2003.9116\n",
      "4916  557689.260000  6.322324e+06   -1987.4525\n",
      "4917  557689.260000  6.322324e+06   -1994.1576\n",
      "4918  557689.260000  6.322324e+06   -1994.1576\n",
      "4919  557689.260000  6.322324e+06   -2003.9116\n",
      "\n",
      "[3140 rows x 3 columns]\n"
     ]
    }
   ],
   "source": [
    "xyz=df.loc[df.Interpreter.isin(['SUKEP','sukep']), ['Easting','Northing','Depth_tvdss']]\n",
    "print(xyz)"
   ]
  },
  {
   "cell_type": "code",
   "execution_count": 6,
   "metadata": {},
   "outputs": [
    {
     "name": "stdout",
     "output_type": "stream",
     "text": [
      "[[ 6.29441170e+05  6.25071247e+06 -2.11597560e+03]\n",
      " [ 6.29479500e+05  6.25067526e+06 -2.13482500e+03]\n",
      " [ 6.29112554e+05  6.25061822e+06 -2.10392500e+03]\n",
      " ...\n",
      " [ 5.57689260e+05  6.32232442e+06 -1.99415760e+03]\n",
      " [ 5.57689260e+05  6.32232442e+06 -1.99415760e+03]\n",
      " [ 5.57689260e+05  6.32232442e+06 -2.00391160e+03]]\n"
     ]
    }
   ],
   "source": [
    "xyz=df.loc[df['Interpreter'] == int_cnt[np.unravel_index(np.argmax(int_cnt), int_cnt.shape)], [ 'Easting','Northing','Depth_tvdss']].values\n",
    "print(xyz)"
   ]
  },
  {
   "cell_type": "code",
   "execution_count": 7,
   "metadata": {},
   "outputs": [],
   "source": [
    "#Exctract XYZ values for processing\n",
    "x=xyz[:,0]\n",
    "y=xyz[:,1]\n",
    "z=xyz[:,2]"
   ]
  },
  {
   "cell_type": "code",
   "execution_count": 8,
   "metadata": {},
   "outputs": [
    {
     "name": "stdout",
     "output_type": "stream",
     "text": [
      "-8486.4648 -466.31\n"
     ]
    }
   ],
   "source": [
    "#Get extents of input data\n",
    "xmin=x.min() ; ymin=y.min() ; xmax=x.max() ; ymax=y.max() ; zmin=z.min() ; zmax=z.max()\n",
    "print(zmin,zmax)"
   ]
  },
  {
   "cell_type": "markdown",
   "metadata": {},
   "source": [
    "### Initial processing to mathematically remove obvious outliers"
   ]
  },
  {
   "cell_type": "code",
   "execution_count": 9,
   "metadata": {
    "scrolled": false
   },
   "outputs": [
    {
     "data": {
      "application/vnd.jupyter.widget-view+json": {
       "model_id": "e26a657c40684a69bb580f374c322c60",
       "version_major": 2,
       "version_minor": 0
      },
      "text/plain": [
       "Output()"
      ]
     },
     "metadata": {},
     "output_type": "display_data"
    },
    {
     "data": {
      "application/vnd.jupyter.widget-view+json": {
       "model_id": "1a733577e14a402c80274bb8808cd519",
       "version_major": 2,
       "version_minor": 0
      },
      "text/plain": [
       "VBox(children=(Figure(animation=200.0, camera=PerspectiveCamera(fov=46.0, position=(0.0, 0.0, 2.0), quaternion…"
      ]
     },
     "metadata": {},
     "output_type": "display_data"
    }
   ],
   "source": [
    "def outliers_iqr(z):\n",
    "    \"\"\"\n",
    "    The interquartile range (IQR), also called the midspread or middle 50%, \n",
    "    or technically H-spread, is a measure of statistical dispersion, being equal to the difference \n",
    "    between 75th and 25th percentiles, or between upper and lower quartiles, IQR = Q3 − Q1.\n",
    "    In other words, the IQR is the first quartile subtracted from the third quartile; these quartiles \n",
    "    can be clearly seen on a box plot on the data.\n",
    "    It is a measure of the dispersion similar to standard deviation or variance, but is much more robust \n",
    "    against outliers.\n",
    "    \"\"\"\n",
    "    quartile_1, quartile_3 = np.percentile(z, [25, 75])\n",
    "    iqr = quartile_3 - quartile_1\n",
    "    lower_bound = quartile_1 - (iqr * 1.5)\n",
    "    upper_bound = quartile_3 + (iqr * 1.5)\n",
    "    return np.where((z > upper_bound) | (z < lower_bound))\n",
    "iqr_test = outliers_iqr(z)[0].tolist()\n",
    "x_smooth = np.delete(x,iqr_test)\n",
    "y_smooth = np.delete(y,iqr_test)\n",
    "z_smooth = np.delete(z,iqr_test)\n",
    "ipv.figure()\n",
    "s = ipv.scatter(x_smooth, y_smooth, z_smooth, marker='sphere', size=3)\n",
    "ipv.xlim(xmin,xmax)\n",
    "ipv.ylim(ymin,ymax)\n",
    "ipv.zlim(-7000,0)\n",
    "ipv.animation_control(s)# shows controls for animation controls\n",
    "ipv.selector_default()\n",
    "ipv.show()"
   ]
  },
  {
   "cell_type": "markdown",
   "metadata": {},
   "source": [
    "### Iterative interactive editing, round1"
   ]
  },
  {
   "cell_type": "code",
   "execution_count": 10,
   "metadata": {},
   "outputs": [],
   "source": [
    "#Select points in plot above interactively, using CTRL-R\n",
    "s_sel=s.selected\n",
    "k=s_sel[0].tolist()"
   ]
  },
  {
   "cell_type": "code",
   "execution_count": 11,
   "metadata": {},
   "outputs": [],
   "source": [
    "#Pick up points edited in first 'outlier edit' funtion\n",
    "x= x_smooth\n",
    "y = y_smooth\n",
    "z = z_smooth"
   ]
  },
  {
   "cell_type": "code",
   "execution_count": 12,
   "metadata": {},
   "outputs": [],
   "source": [
    "#Delete the points\n",
    "xdel=np.delete(x,k)\n",
    "ydel=np.delete(y,k)\n",
    "zdel=np.delete(z,k)"
   ]
  },
  {
   "cell_type": "code",
   "execution_count": 14,
   "metadata": {
    "scrolled": false
   },
   "outputs": [
    {
     "data": {
      "application/vnd.jupyter.widget-view+json": {
       "model_id": "aa4a39948c534fb8b90a2cff4434c77e",
       "version_major": 2,
       "version_minor": 0
      },
      "text/plain": [
       "Output()"
      ]
     },
     "metadata": {},
     "output_type": "display_data"
    },
    {
     "data": {
      "application/vnd.jupyter.widget-view+json": {
       "model_id": "d9c6e43c2851400897ed121b46f9696b",
       "version_major": 2,
       "version_minor": 0
      },
      "text/plain": [
       "VBox(children=(Figure(animation=200.0, camera=PerspectiveCamera(fov=46.0, position=(0.0, 0.0, 2.0), quaternion…"
      ]
     },
     "metadata": {},
     "output_type": "display_data"
    }
   ],
   "source": [
    "#Redraw the plot with the update pointset\n",
    "ipv.figure()\n",
    "sdel = ipv.scatter(xdel, ydel, zdel, marker='sphere', size=3)\n",
    "ipv.xlim(xmin,xmax)\n",
    "ipv.ylim(ymin,ymax)\n",
    "ipv.zlim(-4000,-1500)\n",
    "ipv.animation_control(s)# shows controls for animation controls\n",
    "ipv.selector_default()\n",
    "ipv.show()"
   ]
  },
  {
   "cell_type": "markdown",
   "metadata": {},
   "source": [
    "### Second edit iteration"
   ]
  },
  {
   "cell_type": "code",
   "execution_count": 15,
   "metadata": {},
   "outputs": [],
   "source": [
    "#Select points in plot above, using CTRTL-R. Then procede to select and delete:\n",
    "k2=sdel.selected[0].tolist()"
   ]
  },
  {
   "cell_type": "code",
   "execution_count": 16,
   "metadata": {},
   "outputs": [],
   "source": [
    "#Delete the selected points\n",
    "xdel2=np.delete(xdel,k2)\n",
    "ydel2=np.delete(ydel,k2)\n",
    "zdel2=np.delete(zdel,k2)"
   ]
  },
  {
   "cell_type": "code",
   "execution_count": 17,
   "metadata": {},
   "outputs": [
    {
     "data": {
      "application/vnd.jupyter.widget-view+json": {
       "model_id": "3b746a8b214743288c4afd3925cd7f90",
       "version_major": 2,
       "version_minor": 0
      },
      "text/plain": [
       "Output()"
      ]
     },
     "metadata": {},
     "output_type": "display_data"
    },
    {
     "data": {
      "application/vnd.jupyter.widget-view+json": {
       "model_id": "c1db29e065f243bba0171de42e4659e2",
       "version_major": 2,
       "version_minor": 0
      },
      "text/plain": [
       "VBox(children=(Figure(animation=200.0, camera=PerspectiveCamera(fov=46.0, position=(0.0, 0.0, 2.0), quaternion…"
      ]
     },
     "metadata": {},
     "output_type": "display_data"
    }
   ],
   "source": [
    "#Redraw the plot. Presume no further edits after this\n",
    "ipv.figure()\n",
    "sdel2 = ipv.scatter(xdel2, ydel2, zdel2, marker='sphere', size=3)\n",
    "ipv.xlim(xmin,xmax)\n",
    "ipv.ylim(ymin,ymax)\n",
    "ipv.zlim(-4000,-1500)\n",
    "ipv.animation_control(s)# shows controls for animation controls\n",
    "ipv.selector_default()\n",
    "ipv.show()"
   ]
  },
  {
   "cell_type": "markdown",
   "metadata": {},
   "source": [
    "### Grid up  edited data"
   ]
  },
  {
   "cell_type": "code",
   "execution_count": 18,
   "metadata": {},
   "outputs": [],
   "source": [
    "#Reassign edited data to X,Y,Z variable\n",
    "x, y, z = xdel2, ydel2, zdel2"
   ]
  },
  {
   "cell_type": "markdown",
   "metadata": {},
   "source": [
    "### Grid Tops via minimum curvature\n",
    "##### Note this was our first gridding approach. However, a depopulated appoach is going to be preferred..."
   ]
  },
  {
   "cell_type": "code",
   "execution_count": 19,
   "metadata": {
    "scrolled": false
   },
   "outputs": [
    {
     "name": "stdout",
     "output_type": "stream",
     "text": [
      "Xmin = 436460.88539981 , XMax = 686576.0\n",
      "Ymin = 6212820.50522514, Ymax= 6530220.47604041\n",
      "Zmin = -8486.4648, Zmax = -466.31\n"
     ]
    }
   ],
   "source": [
    "#Create a grid outline from tops data extent. Start printing extent\n",
    "print(\"Xmin = {} , XMax = {}\\nYmin = {}, Ymax= {}\\nZmin = {}, Zmax = {}\".format(xmin, xmax, ymin, ymax, zmin, zmax))"
   ]
  },
  {
   "cell_type": "code",
   "execution_count": 20,
   "metadata": {},
   "outputs": [],
   "source": [
    "from scipy import spatial"
   ]
  },
  {
   "cell_type": "code",
   "execution_count": 21,
   "metadata": {},
   "outputs": [],
   "source": [
    "#Create sensible grid outline of integers. Currently hardcoded...\n",
    "extent = [490000, 690000, 6200000, 6530000] #Sensible numbers from observed Xmin and Ymin. Defines Grid\n",
    "grid_int = 100 #Hard coded grid spacing\n",
    "#Create arrays of the x and y axis\n",
    "x_points = int((extent[1] - extent[0]) / grid_int) #Number of samples in the X-Direction\n",
    "y_points = int((extent[3] - extent[2]) / grid_int) #Number of samples in the Y-Direction"
   ]
  },
  {
   "cell_type": "code",
   "execution_count": 22,
   "metadata": {},
   "outputs": [],
   "source": [
    "#Create the grid. interval expressed by complex numbers\n",
    "grid_x, grid_y = np.mgrid[extent[0]:extent[1]:complex(x_points), extent[2]:extent[3]:complex(y_points)]"
   ]
  },
  {
   "cell_type": "code",
   "execution_count": null,
   "metadata": {},
   "outputs": [],
   "source": [
    "tree = spatial.KDTree(points.tolist())\n",
    "keep=list(set(tree.query(list(zip(grid_x.ravel(), grid_y.ravel())))[1]))\n",
    "xk,yk,zk = x[keep],y[keep],z[keep]"
   ]
  },
  {
   "cell_type": "code",
   "execution_count": 24,
   "metadata": {},
   "outputs": [],
   "source": [
    "#Create numpy arrays of point co-ordinates and then values from input data\n",
    "points = np.array(list(zip(x, y)))\n",
    "values = z"
   ]
  },
  {
   "cell_type": "code",
   "execution_count": 111,
   "metadata": {},
   "outputs": [],
   "source": [
    "#Perform interpolation of data in to the specified grid using scipy\n",
    "from scipy.interpolate import griddata\n",
    "gridded = griddata(points, values, (grid_x, grid_y), method='linear')\n",
    "\n"
   ]
  },
  {
   "cell_type": "code",
   "execution_count": 31,
   "metadata": {},
   "outputs": [
    {
     "name": "stdout",
     "output_type": "stream",
     "text": [
      "[[nan nan nan ... nan nan nan]\n",
      " [nan nan nan ... nan nan nan]\n",
      " [nan nan nan ... nan nan nan]\n",
      " ...\n",
      " [nan nan nan ... nan nan nan]\n",
      " [nan nan nan ... nan nan nan]\n",
      " [nan nan nan ... nan nan nan]]\n"
     ]
    }
   ],
   "source": [
    "\n",
    "import scipy.interpolate as itp\n",
    "#from scipy.interpolate import CloughTocher2DInterpolator\n",
    "# gridded = CloughTocher2DInterpolator(points, values)\n",
    "ip = itp.CloughTocher2DInterpolator(points, values, fill_value=np.nan, tol=1e-8, rescale=True)\n",
    "gridded=ip(grid_x, grid_y)\n",
    "\n",
    "print(gridded)"
   ]
  },
  {
   "cell_type": "code",
   "execution_count": 65,
   "metadata": {},
   "outputs": [
    {
     "data": {
      "text/plain": [
       "3079"
      ]
     },
     "execution_count": 65,
     "metadata": {},
     "output_type": "execute_result"
    }
   ],
   "source": [
    "len(gridded.points)\n",
    "len(values)"
   ]
  },
  {
   "cell_type": "code",
   "execution_count": 32,
   "metadata": {
    "scrolled": false
   },
   "outputs": [
    {
     "data": {
      "text/plain": [
       "<matplotlib.colorbar.Colorbar at 0xb33498978>"
      ]
     },
     "execution_count": 32,
     "metadata": {},
     "output_type": "execute_result"
    },
    {
     "data": {
      "image/png": "[encoded data removed]",
      "text/plain": [
       "<Figure size 1440x720 with 3 Axes>"
      ]
     },
     "metadata": {
      "needs_background": "light"
     },
     "output_type": "display_data"
    }
   ],
   "source": [
    "#Initial plot, Pre-Residuals. Can probs delete later\n",
    "import matplotlib.pyplot as plt\n",
    "%matplotlib inline\n",
    "plt.figure(figsize=(20,10))\n",
    "plt.imshow(gridded.T, origin='lower', extent=extent, cmap='jet',vmin=-6000, vmax=0)\n",
    "plt.colorbar()\n",
    "plt.scatter(x, y, s=20, c=z,vmin=-6000, vmax=0,cmap='jet')\n",
    "\n",
    "#plt.gray()\n",
    "plt.colorbar()"
   ]
  },
  {
   "cell_type": "code",
   "execution_count": null,
   "metadata": {},
   "outputs": [],
   "source": [
    "from scipy.interpolate import Rbf\n",
    "rbfi = Rbf(x, y, z, smooth = 2, function = 'multiquadric')\n",
    "di = rbfi(grid_x,grid_y)\n"
   ]
  },
  {
   "cell_type": "code",
   "execution_count": null,
   "metadata": {},
   "outputs": [],
   "source": [
    "plt.imshow(di.T, origin = 'lower')"
   ]
  },
  {
   "cell_type": "markdown",
   "metadata": {},
   "source": [
    "### Residuals Extraction"
   ]
  },
  {
   "cell_type": "code",
   "execution_count": null,
   "metadata": {},
   "outputs": [],
   "source": [
    "import bruges #Utilise the coordinate transformation functions"
   ]
  },
  {
   "cell_type": "code",
   "execution_count": null,
   "metadata": {},
   "outputs": [],
   "source": [
    "gridded.shape\n",
    "print(gridded)"
   ]
  },
  {
   "cell_type": "code",
   "execution_count": null,
   "metadata": {},
   "outputs": [],
   "source": [
    "# UTM coords of 3 unique inline, crossline locations. Taken from grid extents (realworld)\n",
    "corners_xy = np.array([[490000, 62000000],\n",
    "                       [490000, 6530000],\n",
    "                       [690000, 6530000]])\n",
    "\n",
    "# The inline, crossline locations you just provided. Also Grid extent, but as indices given by grid.shape\n",
    "corners_ix = np.array([[0,  0],\n",
    "                       [0, 330],\n",
    "                       [200, 0]])"
   ]
  },
  {
   "cell_type": "code",
   "execution_count": null,
   "metadata": {},
   "outputs": [],
   "source": [
    "transform = bruges.transform.CoordTransform(corners_ix, corners_xy)"
   ]
  },
  {
   "cell_type": "code",
   "execution_count": null,
   "metadata": {},
   "outputs": [],
   "source": [
    "#Pissing about to  create lists of well-top coordinates (as currently in np.array). Then transform\n",
    "xlist = x.tolist()\n",
    "ylist = y.tolist()\n",
    "merge = list(zip(xlist, ylist))\n",
    "coordinates = []\n",
    "for i in merge:\n",
    "    coordinates.append(transform.reverse([i[0], i[1]]))"
   ]
  },
  {
   "cell_type": "code",
   "execution_count": null,
   "metadata": {},
   "outputs": [],
   "source": [
    "#Then convert the indicies back to numpy arrays\n",
    "xcors = np.array([item[0] for item in coordinates])\n",
    "ycors = np.array([item[1] for item in coordinates])"
   ]
  },
  {
   "cell_type": "code",
   "execution_count": null,
   "metadata": {
    "scrolled": true
   },
   "outputs": [],
   "source": [
    "#Extract the value of the grid at the well top locations\n",
    "z_gridded = gridded[(xcors, ycors)]"
   ]
  },
  {
   "cell_type": "code",
   "execution_count": null,
   "metadata": {},
   "outputs": [],
   "source": [
    "#Calculate the residuals by subtracting gridded value from input top value\n",
    "residuals = z - z_gridded"
   ]
  },
  {
   "cell_type": "code",
   "execution_count": null,
   "metadata": {},
   "outputs": [],
   "source": [
    "#Put the residuals in to a dataframe for visualisation\n",
    "d = {'x': x, 'y': y, 'z':z, 'z_gridded': z_gridded, 'residual': residuals}\n",
    "res_df = pd.DataFrame(data=d)\n",
    "res_df.head(20)"
   ]
  },
  {
   "cell_type": "code",
   "execution_count": null,
   "metadata": {},
   "outputs": [],
   "source": [
    "res_df['Dupl'] = res_df.duplicated(subset = ['x','y'], keep = False)\n",
    "#res_df.head(20)\n",
    "#print(res_df.loc[res_df['Dupl'] == True,  ['Dupl','x','y','residual']])\n",
    "cln_df = res_df.loc[res_df['Dupl'] == False,  ['x','y','z','residual']]\n",
    "cln_df.head()\n",
    "x, y,z  = cln_df.x, cln_df.y, cln_df.z\n"
   ]
  },
  {
   "cell_type": "code",
   "execution_count": null,
   "metadata": {},
   "outputs": [],
   "source": [
    "points = np.array(list(zip(x, y)))\n",
    "values = z\n",
    "cln_gridded = griddata(points, values, (grid_x, grid_y), method='linear')"
   ]
  },
  {
   "cell_type": "code",
   "execution_count": null,
   "metadata": {},
   "outputs": [],
   "source": [
    "#Plot image of grid, this time with residual annotations\n",
    "plt.figure(figsize=(20,12))\n",
    "plt.imshow(cln_gridded.T, origin='lower', extent=extent, cmap='jet')\n",
    "plt.colorbar()\n",
    "\n",
    "#Plot well tops and residuals\n",
    "plt.scatter(x, y, s=20, c=z)\n",
    "\n",
    "res_list = residuals.tolist()\n",
    "res_list_txt = [str(round(i, 2)) for i in res_list]\n",
    "\"\"\"\n",
    "for i, txt in enumerate(res_list_txt):\n",
    "    plt.annotate(txt, (x[i], y[i]) , size=10)\n",
    "\"\"\""
   ]
  },
  {
   "cell_type": "markdown",
   "metadata": {},
   "source": [
    "### Residual Histogram"
   ]
  },
  {
   "cell_type": "code",
   "execution_count": null,
   "metadata": {
    "scrolled": true
   },
   "outputs": [],
   "source": [
    "rng = np.nanmin(res_list), np.nanmax(res_list)\n",
    "n, bins, _ = plt.hist(res_list, bins='auto',  range=rng)"
   ]
  },
  {
   "cell_type": "code",
   "execution_count": null,
   "metadata": {},
   "outputs": [],
   "source": [
    "bins = (bins[1:] + bins[:-1]) / 2"
   ]
  },
  {
   "cell_type": "code",
   "execution_count": null,
   "metadata": {},
   "outputs": [],
   "source": [
    "plt.bar(bins, n, width=20, color='g')"
   ]
  },
  {
   "cell_type": "markdown",
   "metadata": {},
   "source": [
    "### 2d Fourier Transform"
   ]
  },
  {
   "cell_type": "code",
   "execution_count": null,
   "metadata": {},
   "outputs": [],
   "source": [
    "#Subset data to rectangle. In final version, will have already selected rectangle in ipyvolume phase"
   ]
  },
  {
   "cell_type": "code",
   "execution_count": null,
   "metadata": {
    "scrolled": true
   },
   "outputs": [],
   "source": [
    "gridded.shape"
   ]
  },
  {
   "cell_type": "code",
   "execution_count": null,
   "metadata": {},
   "outputs": [],
   "source": [
    "ft = np.fft.fft2(gridded)"
   ]
  }
 ],
 "metadata": {
  "kernelspec": {
   "display_name": "geocomp",
   "language": "python",
   "name": "geocomp"
  },
  "language_info": {
   "codemirror_mode": {
    "name": "ipython",
    "version": 3
   },
   "file_extension": ".py",
   "mimetype": "text/x-python",
   "name": "python",
   "nbconvert_exporter": "python",
   "pygments_lexer": "ipython3",
   "version": "3.7.0"
  }
 },
 "nbformat": 4,
 "nbformat_minor": 2
}
