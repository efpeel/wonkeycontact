{
 "cells": [
  {
   "cell_type": "code",
   "execution_count": 1,
   "metadata": {},
   "outputs": [],
   "source": [
    "import pandas as pd\n",
    "import numpy as np\n",
    "import ipyvolume as ipv"
   ]
  },
  {
   "cell_type": "code",
   "execution_count": 2,
   "metadata": {},
   "outputs": [
    {
     "data": {
      "text/plain": [
       "'C:\\\\Users\\\\Thomas.Wade\\\\OneDrive - Shell\\\\python\\\\hackathon\\\\git\\\\wonkeycontact'"
      ]
     },
     "execution_count": 2,
     "metadata": {},
     "output_type": "execute_result"
    }
   ],
   "source": [
    "%pwd"
   ]
  },
  {
   "cell_type": "code",
   "execution_count": 3,
   "metadata": {},
   "outputs": [
    {
     "name": "stdout",
     "output_type": "stream",
     "text": [
      "              UID       Well             Top Interpreter  Depth_MD  \\\n",
      "0  11000090507701     US-008  AS 11.2 (Sand)       PRJ__   2189.40   \n",
      "1       SVA-51005  SVA-51005          AS11.2       UNKNO   2550.99   \n",
      "2  99000010166301      US-62          AS11.2         SPD   2311.00   \n",
      "3  99000010117801   US-24008          AS11.2        UNKN   2699.32   \n",
      "4  11000090404301     US-032          AS11.2        UNKN   2215.03   \n",
      "\n",
      "   Depth_tvdss        Easting      Northing  \n",
      "0   -2129.0000  620549.130000  6.643251e+06  \n",
      "1   -2471.0854  612153.560000  6.677389e+06  \n",
      "2   -2113.2766  626877.718685  6.643734e+06  \n",
      "3   -2127.0000  624102.896736  6.653115e+06  \n",
      "4   -2121.6533  610893.850000  6.655695e+06  \n"
     ]
    }
   ],
   "source": [
    "from pandas import read_excel\n",
    "my_sheet_name = 'Sheet1' \n",
    "df = read_excel('11_2.xlsx', sheet_name = my_sheet_name)\n",
    "print(df.head()) # shows headers with top 5 rows"
   ]
  },
  {
   "cell_type": "code",
   "execution_count": null,
   "metadata": {},
   "outputs": [],
   "source": [
    "#df.loc[:,['UID','Well','Top','Interpreter','Depth_MD','Easting','Northing','Depth_tvdss']]"
   ]
  },
  {
   "cell_type": "code",
   "execution_count": null,
   "metadata": {},
   "outputs": [],
   "source": [
    "#df.loc[df.Top.isin(['AS11.2','T AS11.2']), ['Easting','Northing','Depth_tvdss']]"
   ]
  },
  {
   "cell_type": "code",
   "execution_count": 4,
   "metadata": {},
   "outputs": [],
   "source": [
    "xyz=df.loc[df.Top.isin(['AS11.2','T AS11.2']), ['Easting','Northing','Depth_tvdss']].values"
   ]
  },
  {
   "cell_type": "code",
   "execution_count": 7,
   "metadata": {},
   "outputs": [],
   "source": [
    "#Exctract XYZ values for processing\n",
    "x=xyz[:,0]\n",
    "y=xyz[:,1]\n",
    "z=xyz[:,2]"
   ]
  },
  {
   "cell_type": "code",
   "execution_count": 8,
   "metadata": {},
   "outputs": [],
   "source": [
    "#Get extents of input data\n",
    "xmin=x.min() ; ymin=y.min() ; xmax=x.max() ; ymax=y.max() ; zmin=z.min() ; zmax=z.max()"
   ]
  },
  {
   "cell_type": "markdown",
   "metadata": {},
   "source": [
    "### Initial processing to mathematically remove obvious outliers"
   ]
  },
  {
   "cell_type": "code",
   "execution_count": 9,
   "metadata": {
    "scrolled": false
   },
   "outputs": [
    {
     "data": {
      "application/vnd.jupyter.widget-view+json": {
       "model_id": "f1e36f6531ac47759185f368a56e1859",
       "version_major": 2,
       "version_minor": 0
      },
      "text/plain": [
       "Output()"
      ]
     },
     "metadata": {},
     "output_type": "display_data"
    },
    {
     "data": {
      "application/vnd.jupyter.widget-view+json": {
       "model_id": "e913ccfdd74d44b18d44e21f1e536975",
       "version_major": 2,
       "version_minor": 0
      },
      "text/plain": [
       "VBox(children=(Figure(animation=200.0, camera=PerspectiveCamera(fov=46.0, position=(0.0, 0.0, 2.0), quaternion…"
      ]
     },
     "metadata": {},
     "output_type": "display_data"
    }
   ],
   "source": [
    "def outliers_iqr(z):\n",
    "    \"\"\"\n",
    "    The interquartile range (IQR), also called the midspread or middle 50%, \n",
    "    or technically H-spread, is a measure of statistical dispersion, being equal to the difference \n",
    "    between 75th and 25th percentiles, or between upper and lower quartiles, IQR = Q3 − Q1.\n",
    "    In other words, the IQR is the first quartile subtracted from the third quartile; these quartiles \n",
    "    can be clearly seen on a box plot on the data.\n",
    "    It is a measure of the dispersion similar to standard deviation or variance, but is much more robust \n",
    "    against outliers.\n",
    "    \"\"\"\n",
    "    quartile_1, quartile_3 = np.percentile(z, [25, 75])\n",
    "    iqr = quartile_3 - quartile_1\n",
    "    lower_bound = quartile_1 - (iqr * 1.5)\n",
    "    upper_bound = quartile_3 + (iqr * 1.5)\n",
    "    return np.where((z > upper_bound) | (z < lower_bound))\n",
    "iqr_test = outliers_iqr(z)[0].tolist()\n",
    "x_smooth = np.delete(x,iqr_test)\n",
    "y_smooth = np.delete(y,iqr_test)\n",
    "z_smooth = np.delete(z,iqr_test)\n",
    "ipv.figure()\n",
    "s = ipv.scatter(x_smooth, y_smooth, z_smooth, marker='sphere', size=3)\n",
    "ipv.xlim(xmin,xmax)\n",
    "ipv.ylim(ymin,ymax)\n",
    "ipv.zlim(-4000,-1500)\n",
    "ipv.animation_control(s)# shows controls for animation controls\n",
    "ipv.selector_default()\n",
    "ipv.show()"
   ]
  },
  {
   "cell_type": "markdown",
   "metadata": {},
   "source": [
    "### Iterative interactive editing"
   ]
  },
  {
   "cell_type": "code",
   "execution_count": 10,
   "metadata": {},
   "outputs": [],
   "source": [
    "s_sel=s.selected\n",
    "k=s_sel[0].tolist()"
   ]
  },
  {
   "cell_type": "code",
   "execution_count": 14,
   "metadata": {},
   "outputs": [],
   "source": [
    "#Pick up points edited in first 'outlier edit' funtion\n",
    "x= x_smooth\n",
    "y = y_smooth\n",
    "z = z_smooth"
   ]
  },
  {
   "cell_type": "code",
   "execution_count": 15,
   "metadata": {},
   "outputs": [],
   "source": [
    "xdel=np.delete(x,k)\n",
    "ydel=np.delete(y,k)\n",
    "zdel=np.delete(z,k)"
   ]
  },
  {
   "cell_type": "code",
   "execution_count": 16,
   "metadata": {
    "scrolled": false
   },
   "outputs": [
    {
     "data": {
      "application/vnd.jupyter.widget-view+json": {
       "model_id": "5b2202e4314c482db81d0846bc3b119e",
       "version_major": 2,
       "version_minor": 0
      },
      "text/plain": [
       "Output()"
      ]
     },
     "metadata": {},
     "output_type": "display_data"
    },
    {
     "data": {
      "application/vnd.jupyter.widget-view+json": {
       "model_id": "5da210c1b78c4fef8ed4098bebea6f31",
       "version_major": 2,
       "version_minor": 0
      },
      "text/plain": [
       "VBox(children=(Figure(animation=200.0, camera=PerspectiveCamera(fov=46.0, position=(0.0, 0.0, 2.0), quaternion…"
      ]
     },
     "metadata": {},
     "output_type": "display_data"
    }
   ],
   "source": [
    "ipv.figure()\n",
    "sdel = ipv.scatter(xdel, ydel, zdel, marker='sphere', size=3)\n",
    "ipv.xlim(xmin,xmax)\n",
    "ipv.ylim(ymin,ymax)\n",
    "ipv.zlim(-4000,-1500)\n",
    "ipv.animation_control(s)# shows controls for animation controls\n",
    "ipv.selector_default()\n",
    "ipv.show()"
   ]
  },
  {
   "cell_type": "markdown",
   "metadata": {},
   "source": [
    "### Second edit iteration"
   ]
  },
  {
   "cell_type": "code",
   "execution_count": 17,
   "metadata": {},
   "outputs": [],
   "source": [
    "k2=sdel.selected[0].tolist()"
   ]
  },
  {
   "cell_type": "code",
   "execution_count": 18,
   "metadata": {},
   "outputs": [],
   "source": [
    "xdel2=np.delete(xdel,k2)\n",
    "ydel2=np.delete(ydel,k2)\n",
    "zdel2=np.delete(zdel,k2)"
   ]
  },
  {
   "cell_type": "code",
   "execution_count": 19,
   "metadata": {},
   "outputs": [
    {
     "data": {
      "application/vnd.jupyter.widget-view+json": {
       "model_id": "99b24d339be247f8b64d00098c110502",
       "version_major": 2,
       "version_minor": 0
      },
      "text/plain": [
       "Output()"
      ]
     },
     "metadata": {},
     "output_type": "display_data"
    },
    {
     "data": {
      "application/vnd.jupyter.widget-view+json": {
       "model_id": "b472f1cef86b45d888ad0b9f4f79b62e",
       "version_major": 2,
       "version_minor": 0
      },
      "text/plain": [
       "VBox(children=(Figure(animation=200.0, camera=PerspectiveCamera(fov=46.0, position=(0.0, 0.0, 2.0), quaternion…"
      ]
     },
     "metadata": {},
     "output_type": "display_data"
    }
   ],
   "source": [
    "ipv.figure()\n",
    "sdel2 = ipv.scatter(xdel2, ydel2, zdel2, marker='sphere', size=3)\n",
    "ipv.xlim(xmin,xmax)\n",
    "ipv.ylim(ymin,ymax)\n",
    "ipv.zlim(-4000,-1500)\n",
    "ipv.animation_control(s)# shows controls for animation controls\n",
    "ipv.selector_default()\n",
    "ipv.show()"
   ]
  },
  {
   "cell_type": "markdown",
   "metadata": {},
   "source": [
    "### Grid up  edited data"
   ]
  },
  {
   "cell_type": "code",
   "execution_count": 21,
   "metadata": {},
   "outputs": [],
   "source": [
    "#Reassign edited data to X,Y,Z variable\n",
    "x, y, z = xdel2, ydel2, zdel2"
   ]
  },
  {
   "cell_type": "markdown",
   "metadata": {},
   "source": [
    "### Grid Tops via minimum curvature"
   ]
  },
  {
   "cell_type": "code",
   "execution_count": 22,
   "metadata": {
    "scrolled": false
   },
   "outputs": [
    {
     "name": "stdout",
     "output_type": "stream",
     "text": [
      "Xmin = 595608.87 , XMax = 628209.11\n",
      "Ymin = 6639937.51, Ymax= 6699306.54\n",
      "Zmin = -3000.22, Zmax = -2108.3\n"
     ]
    }
   ],
   "source": [
    "#Create a grid outline from tops data extent. Start printing extent\n",
    "print(\"Xmin = {} , XMax = {}\\nYmin = {}, Ymax= {}\\nZmin = {}, Zmax = {}\".format(xmin, xmax, ymin, ymax, zmin, zmax))"
   ]
  },
  {
   "cell_type": "code",
   "execution_count": 23,
   "metadata": {},
   "outputs": [],
   "source": [
    "#Create sensible grid outline of integers. Now hardcoded...\n",
    "extent = [596000, 628500, 6640000, 6700000] #Sensible numbers from observed Xmin and Ymin\n",
    "grid_int = 100 #Hard coded grid spacing\n",
    "#Create arrays of the x and y axis\n",
    "x_points = int((extent[1] - extent[0]) / grid_int)\n",
    "y_points = int((extent[3] - extent[2]) / grid_int)"
   ]
  },
  {
   "cell_type": "code",
   "execution_count": 24,
   "metadata": {},
   "outputs": [],
   "source": [
    "#Create the grid. interval expressed by complex numbers\n",
    "grid_x, grid_y = np.mgrid[extent[0]:extent[1]:complex(x_points), extent[2]:extent[3]:complex(y_points)]"
   ]
  },
  {
   "cell_type": "code",
   "execution_count": 25,
   "metadata": {},
   "outputs": [],
   "source": [
    "#Create numpy arrays of point co-ordinates and then values from input data\n",
    "points = np.array(list(zip(x, y)))\n",
    "values = z"
   ]
  },
  {
   "cell_type": "code",
   "execution_count": 26,
   "metadata": {},
   "outputs": [],
   "source": [
    "#Perform interpolation of data in to the specified grid using scipy\n",
    "from scipy.interpolate import griddata\n",
    "gridded = griddata(points, values, (grid_x, grid_y), method='cubic')"
   ]
  },
  {
   "cell_type": "code",
   "execution_count": 39,
   "metadata": {
    "scrolled": false
   },
   "outputs": [
    {
     "data": {
      "text/plain": [
       "<matplotlib.collections.PathCollection at 0xb3b3ef0>"
      ]
     },
     "execution_count": 39,
     "metadata": {},
     "output_type": "execute_result"
    },
    {
     "data": {
      "image/png": "[encoded data removed]",
      "text/plain": [
       "<Figure size 1440x720 with 1 Axes>"
      ]
     },
     "metadata": {
      "needs_background": "light"
     },
     "output_type": "display_data"
    }
   ],
   "source": [
    "import matplotlib.pyplot as plt\n",
    "%matplotlib inline\n",
    "plt.figure(figsize=(20,10))\n",
    "plt.imshow(gridded.T, origin='lower', extent=extent)\n",
    "plt.scatter(x, y, s=10, c='k')\n",
    "#plt.colorbar(gridded.T)"
   ]
  },
  {
   "cell_type": "markdown",
   "metadata": {},
   "source": [
    "### 2d Fourier Transform"
   ]
  },
  {
   "cell_type": "code",
   "execution_count": null,
   "metadata": {},
   "outputs": [],
   "source": [
    "#Subset data to rectangle. In final version, will have already selected rectangle in ipyvolume phase"
   ]
  },
  {
   "cell_type": "code",
   "execution_count": 34,
   "metadata": {
    "scrolled": true
   },
   "outputs": [
    {
     "data": {
      "text/plain": [
       "(325, 600)"
      ]
     },
     "execution_count": 34,
     "metadata": {},
     "output_type": "execute_result"
    }
   ],
   "source": [
    "gridded.shape"
   ]
  },
  {
   "cell_type": "code",
   "execution_count": null,
   "metadata": {},
   "outputs": [],
   "source": [
    "ft = np.fft.fft2(gridded)"
   ]
  }
 ],
 "metadata": {
  "kernelspec": {
   "display_name": "geocomp2",
   "language": "python",
   "name": "geocomp2"
  },
  "language_info": {
   "codemirror_mode": {
    "name": "ipython",
    "version": 3
   },
   "file_extension": ".py",
   "mimetype": "text/x-python",
   "name": "python",
   "nbconvert_exporter": "python",
   "pygments_lexer": "ipython3",
   "version": "3.6.6"
  }
 },
 "nbformat": 4,
 "nbformat_minor": 2
}
